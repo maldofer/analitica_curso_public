{
 "cells": [
  {
   "cell_type": "markdown",
   "metadata": {},
   "source": [
    "### Before running spark (pyspark)\n",
    "Install from https://www.apache.org/dyn/closer.lua/spark/spark-3.4.1/spark-3.4.1-bin-hadoop3.tgz\n",
    "\n",
    "download winutils exe and .dll\n",
    "https://github.com/kontext-tech/winutils/tree/master/hadoop-3.3.0/bin\n",
    "\n",
    "Set environment variables HADOOP_HOME, SPARK_HOME JAVA_HOME and add them to path \n"
   ]
  },
  {
   "cell_type": "code",
   "execution_count": 2,
   "metadata": {},
   "outputs": [
    {
     "name": "stdout",
     "output_type": "stream",
     "text": [
      "+-----+-----+\n",
      "| word|count|\n",
      "+-----+-----+\n",
      "|  the| 4066|\n",
      "|  and| 2968|\n",
      "|   of| 2745|\n",
      "|    I| 2719|\n",
      "|   to| 2144|\n",
      "|   my| 1631|\n",
      "|    a| 1394|\n",
      "|   in| 1129|\n",
      "|     | 1109|\n",
      "|  was|  994|\n",
      "| that|  986|\n",
      "| with|  700|\n",
      "|  had|  679|\n",
      "|which|  547|\n",
      "|  but|  541|\n",
      "|   me|  529|\n",
      "|  not|  505|\n",
      "|  his|  500|\n",
      "|   as|  486|\n",
      "|  for|  485|\n",
      "+-----+-----+\n",
      "only showing top 20 rows\n",
      "\n"
     ]
    }
   ],
   "source": [
    "# spark program that reads a file and count word frequency\n",
    "\n",
    "from pyspark.sql import SparkSession\n",
    "from pyspark.sql.functions import explode, split, col\n",
    "\n",
    "# Initialize Spark session\n",
    "spark = SparkSession.builder \\\n",
    "    .appName(\"WordCount\") \\\n",
    "    .getOrCreate()\n",
    "\n",
    "# Read the text file\n",
    "text_file = spark.read.text(\"Frankenstein-Mary_Wollstonecraft_Shelley.txt\")\n",
    "\n",
    "# Split the lines into words, explode the words into individual rows, and count the frequency of each word\n",
    "word_counts = text_file.select(explode(split(col(\"value\"), \"\\\\s+\")).alias(\"word\")) \\\n",
    "    .groupBy(\"word\") \\\n",
    "    .count() \\\n",
    "    .orderBy(col(\"count\").desc())\n",
    "\n",
    "# Show the result\n",
    "word_counts.show()\n",
    "\n",
    "# Stop the Spark session\n",
    "spark.stop()\n",
    "\n"
   ]
  },
  {
   "cell_type": "code",
   "execution_count": 4,
   "metadata": {},
   "outputs": [
    {
     "name": "stdout",
     "output_type": "stream",
     "text": [
      "not in list\n"
     ]
    }
   ],
   "source": [
    "\n",
    "my_list = [\"a\", \"\"]\n",
    "value = \"\"\n",
    "\n",
    "if value and value in my_list:\n",
    "    print('yes it is on the list')\n",
    "else:\n",
    "    print('not in list')"
   ]
  }
 ],
 "metadata": {
  "kernelspec": {
   "display_name": "venv310",
   "language": "python",
   "name": "python3"
  },
  "language_info": {
   "codemirror_mode": {
    "name": "ipython",
    "version": 3
   },
   "file_extension": ".py",
   "mimetype": "text/x-python",
   "name": "python",
   "nbconvert_exporter": "python",
   "pygments_lexer": "ipython3",
   "version": "3.10.11"
  }
 },
 "nbformat": 4,
 "nbformat_minor": 2
}
